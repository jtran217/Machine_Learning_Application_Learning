{
 "cells": [
  {
   "cell_type": "code",
   "execution_count": null,
   "id": "e0ff5ba6",
   "metadata": {},
   "outputs": [],
   "source": [
    "### Install Packages\n",
    "import numpy as np\n",
    "import pandas as pd\n",
    "import matplotlib.pyplot as plt \n",
    "from sklearn.impute import SimpleImputer"
   ]
  },
  {
   "cell_type": "code",
   "execution_count": null,
   "id": "69b1dd9f",
   "metadata": {},
   "outputs": [],
   "source": [
    "### Import Dataset:\n",
    "\n",
    "ds = pd.read_csv(\"./data/Titanic-Dataset.csv\")\n",
    "\n",
    "# Separating our dependend and independent variable:\n",
    "x = ds[[\"Sex\",\"Age\"]].values\n",
    "print(x)\n",
    "y = ds[[\"Survived\"]].values\n",
    "\n",
    "\n"
   ]
  },
  {
   "cell_type": "code",
   "execution_count": null,
   "id": "61cb4efb",
   "metadata": {},
   "outputs": [],
   "source": [
    "\n",
    "# Cleaning Data so that NaN gets filled with mean for age.\n",
    "print(\"Before Cleaning: \")\n",
    "print(x[:,1])\n",
    "# Imputer expects a 2D array, thus we need to transform our x from 1D to 2D \n",
    "imputer = SimpleImputer(missing_values=np.nan, strategy=\"mean\")\n",
    "# Ravel reflattens 2D back to 1D for assignment\n",
    "x[:,1] = imputer.fit_transform(x[:,1].reshape(-1,1)).ravel()\n",
    "print(\"After Cleaning\")\n",
    "print(x[:,1])\n"
   ]
  }
 ],
 "metadata": {
  "kernelspec": {
   "display_name": "Python 3",
   "language": "python",
   "name": "python3"
  },
  "language_info": {
   "codemirror_mode": {
    "name": "ipython",
    "version": 3
   },
   "file_extension": ".py",
   "mimetype": "text/x-python",
   "name": "python",
   "nbconvert_exporter": "python",
   "pygments_lexer": "ipython3",
   "version": "3.12.4"
  }
 },
 "nbformat": 4,
 "nbformat_minor": 5
}
